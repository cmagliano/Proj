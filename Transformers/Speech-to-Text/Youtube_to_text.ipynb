{
  "nbformat": 4,
  "nbformat_minor": 0,
  "metadata": {
    "colab": {
      "provenance": [],
      "gpuType": "T4"
    },
    "kernelspec": {
      "name": "python3",
      "display_name": "Python 3"
    },
    "language_info": {
      "name": "python"
    },
    "accelerator": "GPU"
  },
  "cells": [
    {
      "cell_type": "code",
      "execution_count": 1,
      "metadata": {
        "colab": {
          "base_uri": "https://localhost:8080/"
        },
        "id": "coRgp2KLNV4S",
        "outputId": "f0813783-227b-432c-805c-7c0613c75e71"
      },
      "outputs": [
        {
          "output_type": "stream",
          "name": "stdout",
          "text": [
            "Collecting youtube-transcript-api\n",
            "  Downloading youtube_transcript_api-0.6.2-py3-none-any.whl (24 kB)\n",
            "Requirement already satisfied: requests in /usr/local/lib/python3.10/dist-packages (from youtube-transcript-api) (2.31.0)\n",
            "Requirement already satisfied: charset-normalizer<4,>=2 in /usr/local/lib/python3.10/dist-packages (from requests->youtube-transcript-api) (3.3.2)\n",
            "Requirement already satisfied: idna<4,>=2.5 in /usr/local/lib/python3.10/dist-packages (from requests->youtube-transcript-api) (3.7)\n",
            "Requirement already satisfied: urllib3<3,>=1.21.1 in /usr/local/lib/python3.10/dist-packages (from requests->youtube-transcript-api) (2.0.7)\n",
            "Requirement already satisfied: certifi>=2017.4.17 in /usr/local/lib/python3.10/dist-packages (from requests->youtube-transcript-api) (2024.6.2)\n",
            "Installing collected packages: youtube-transcript-api\n",
            "Successfully installed youtube-transcript-api-0.6.2\n"
          ]
        }
      ],
      "source": [
        "#!pip install -— upgrade pytube\n",
        "!pip install youtube-transcript-api"
      ]
    },
    {
      "cell_type": "code",
      "source": [
        "# Reading the key of Youtube link by Sharing bottom\n",
        "from youtube_transcript_api import YouTubeTranscriptApi\n",
        "#video_id='Sv6KfO4p-0Q?si=cNrA-uvuoyZpDL9d'\n",
        "video_id='-LIIf7E-qFI?si=51quPjuL_zJSjRLr'\n",
        "\n",
        "def get_transcript(video_id):\n",
        "    #transcript = YouTubeTranscriptApi.get_transcript(video_id, languages=['pt'])\n",
        "    transcript = YouTubeTranscriptApi.get_transcript(video_id, languages=['en'])\n",
        "    return \" \".join([entry['text'] for entry in transcript])\n",
        "\n",
        "texto = get_transcript(video_id)\n",
        "\n",
        "texto"
      ],
      "metadata": {
        "colab": {
          "base_uri": "https://localhost:8080/",
          "height": 87
        },
        "id": "jX2mBSm4NW8J",
        "outputId": "8d6ba7fd-21b5-4010-f171-5d9efdeed449"
      },
      "execution_count": 2,
      "outputs": [
        {
          "output_type": "execute_result",
          "data": {
            "text/plain": [
              "\"I don't know who you are I don't know what you want if you are looking for a ransom I can tell you I don't have money but what I do have are a very particular set of skills skills I have acquired over a very long career skills that make me a nightmare for people like you if you let my daughter go now that'll be the end of it I will not look for you I will not pursue you but if you don't I will look for you I will find you and I will kill you good luck\""
            ],
            "application/vnd.google.colaboratory.intrinsic+json": {
              "type": "string"
            }
          },
          "metadata": {},
          "execution_count": 2
        }
      ]
    }
  ]
}