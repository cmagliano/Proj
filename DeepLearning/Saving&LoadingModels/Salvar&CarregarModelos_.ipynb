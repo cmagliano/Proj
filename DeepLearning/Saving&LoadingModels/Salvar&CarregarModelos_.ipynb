{
  "nbformat": 4,
  "nbformat_minor": 0,
  "metadata": {
    "colab": {
      "provenance": [],
      "gpuType": "T4"
    },
    "kernelspec": {
      "name": "python3",
      "display_name": "Python 3"
    },
    "language_info": {
      "name": "python"
    },
    "accelerator": "GPU"
  },
  "cells": [
    {
      "cell_type": "markdown",
      "source": [
        "# Salvar e carregar modelos\n",
        "\n",
        "Author: Cláudia Magliano\n",
        "\n",
        "Date: 29/07/2024"
      ],
      "metadata": {
        "id": "wNIEYpJ5NI24"
      }
    },
    {
      "cell_type": "markdown",
      "source": [
        "# Configurar\n",
        "Instalar e importar o TensorFlow e as dependências"
      ],
      "metadata": {
        "id": "O30egFQcMTQ4"
      }
    },
    {
      "cell_type": "code",
      "execution_count": 2,
      "metadata": {
        "colab": {
          "base_uri": "https://localhost:8080/"
        },
        "id": "fq3DfzCnL3LZ",
        "outputId": "0174e82a-6a34-4108-90c5-b96e61781672"
      },
      "outputs": [
        {
          "output_type": "stream",
          "name": "stdout",
          "text": [
            "Requirement already satisfied: pyyaml in /usr/local/lib/python3.10/dist-packages (6.0.1)\n",
            "Requirement already satisfied: h5py in /usr/local/lib/python3.10/dist-packages (3.11.0)\n",
            "Requirement already satisfied: numpy>=1.17.3 in /usr/local/lib/python3.10/dist-packages (from h5py) (1.25.2)\n"
          ]
        }
      ],
      "source": [
        "pip install pyyaml h5py  # Required to save models in HDF5 format"
      ]
    },
    {
      "cell_type": "code",
      "source": [
        "import os\n",
        "\n",
        "import tensorflow as tf\n",
        "from tensorflow import keras\n",
        "\n",
        "print(tf.version.VERSION)"
      ],
      "metadata": {
        "colab": {
          "base_uri": "https://localhost:8080/"
        },
        "id": "r1CIFAHhL89v",
        "outputId": "ccdca548-f36c-4bb8-c43b-ad2342cc2b07"
      },
      "execution_count": 1,
      "outputs": [
        {
          "output_type": "stream",
          "name": "stdout",
          "text": [
            "2.15.0\n"
          ]
        }
      ]
    },
    {
      "cell_type": "markdown",
      "source": [
        "# Obter um conjunto de dados de exemplo\n",
        "Para demonstrar como salvar e carregar pesos, você usará o conjunto de dados MNIST . Para acelerar essas execuções, use os primeiros 1.000 exemplos:"
      ],
      "metadata": {
        "id": "Jjk4_-zOMJIC"
      }
    },
    {
      "cell_type": "code",
      "source": [
        "(train_images, train_labels), (test_images, test_labels) = tf.keras.datasets.mnist.load_data()\n",
        "\n",
        "train_labels = train_labels[:1000]\n",
        "test_labels = test_labels[:1000]\n",
        "\n",
        "train_images = train_images[:1000].reshape(-1, 28 * 28) / 255.0\n",
        "test_images = test_images[:1000].reshape(-1, 28 * 28) / 255.0"
      ],
      "metadata": {
        "colab": {
          "base_uri": "https://localhost:8080/"
        },
        "id": "6RDETGiXMEf8",
        "outputId": "5fa4b0f0-aa83-4148-aa90-d8f8eafba402"
      },
      "execution_count": 3,
      "outputs": [
        {
          "output_type": "stream",
          "name": "stdout",
          "text": [
            "Downloading data from https://storage.googleapis.com/tensorflow/tf-keras-datasets/mnist.npz\n",
            "11490434/11490434 [==============================] - 0s 0us/step\n"
          ]
        }
      ]
    },
    {
      "cell_type": "markdown",
      "source": [
        "# Definir um modelo\n",
        "Começar construindo um modelo sequencial simples"
      ],
      "metadata": {
        "id": "JL5WFAeyMvOL"
      }
    },
    {
      "cell_type": "code",
      "source": [
        "# Define a simple sequential model\n",
        "def create_model():\n",
        "  model = tf.keras.models.Sequential([\n",
        "    keras.layers.Dense(512, activation='relu', input_shape=(784,)),\n",
        "    keras.layers.Dropout(0.2),\n",
        "    keras.layers.Dense(10)\n",
        "  ])\n",
        "\n",
        "  model.compile(optimizer='adam',\n",
        "                loss=tf.losses.SparseCategoricalCrossentropy(from_logits=True),\n",
        "                metrics=[tf.metrics.SparseCategoricalAccuracy()])\n",
        "\n",
        "  return model\n",
        "\n",
        "# Create a basic model instance\n",
        "model = create_model()\n",
        "\n",
        "# Display the model's architecture\n",
        "model.summary()"
      ],
      "metadata": {
        "colab": {
          "base_uri": "https://localhost:8080/"
        },
        "id": "KvochihYMzlE",
        "outputId": "660a292c-81b6-4a6d-93a7-40b558a5fd07"
      },
      "execution_count": 4,
      "outputs": [
        {
          "output_type": "stream",
          "name": "stdout",
          "text": [
            "Model: \"sequential\"\n",
            "_________________________________________________________________\n",
            " Layer (type)                Output Shape              Param #   \n",
            "=================================================================\n",
            " dense (Dense)               (None, 512)               401920    \n",
            "                                                                 \n",
            " dropout (Dropout)           (None, 512)               0         \n",
            "                                                                 \n",
            " dense_1 (Dense)             (None, 10)                5130      \n",
            "                                                                 \n",
            "=================================================================\n",
            "Total params: 407050 (1.55 MB)\n",
            "Trainable params: 407050 (1.55 MB)\n",
            "Non-trainable params: 0 (0.00 Byte)\n",
            "_________________________________________________________________\n"
          ]
        }
      ]
    },
    {
      "cell_type": "markdown",
      "source": [
        "# Salvar pontos de verificação durante o treinamento\n",
        "\n",
        "Usar um modelo treinado sem precisar retreiná-lo ou retomar o treinamento de onde parou, caso o processo de treinamento tenha sido interrompido. O retorno de chamada tf.keras.callbacks.ModelCheckpoint permite que você salve continuamente o modelo durante e no final do treinamento.\n",
        "\n",
        "Uso de retorno de chamada do ponto de verificação\n",
        "Crie um retorno de chamada tf.keras.callbacks.ModelCheckpoint que economize pesos apenas durante o treinamento."
      ],
      "metadata": {
        "id": "r4eaRXpUM6nl"
      }
    },
    {
      "cell_type": "code",
      "source": [
        "checkpoint_path = \"training_1/cp.ckpt\"\n",
        "checkpoint_dir = os.path.dirname(checkpoint_path)\n",
        "\n",
        "# Create a callback that saves the model's weights\n",
        "cp_callback = tf.keras.callbacks.ModelCheckpoint(filepath=checkpoint_path,\n",
        "                                                 save_weights_only=True,\n",
        "                                                 verbose=1)\n",
        "\n",
        "# Train the model with the new callback\n",
        "model.fit(train_images,\n",
        "          train_labels,\n",
        "          epochs=10,\n",
        "          validation_data=(test_images, test_labels),\n",
        "          callbacks=[cp_callback])  # Pass callback to training\n",
        "\n",
        "# This may generate warnings related to saving the state of the optimizer.\n",
        "# These warnings (and similar warnings throughout this notebook)\n",
        "# are in place to discourage outdated usage, and can be ignored."
      ],
      "metadata": {
        "colab": {
          "base_uri": "https://localhost:8080/"
        },
        "id": "deTm8sw9NGsW",
        "outputId": "a178aa52-d497-46ea-9fb0-a84dcc54af04"
      },
      "execution_count": 5,
      "outputs": [
        {
          "output_type": "stream",
          "name": "stdout",
          "text": [
            "Epoch 1/10\n",
            "29/32 [==========================>...] - ETA: 0s - loss: 1.1795 - sparse_categorical_accuracy: 0.6649\n",
            "Epoch 1: saving model to training_1/cp.ckpt\n",
            "32/32 [==============================] - 4s 20ms/step - loss: 1.1303 - sparse_categorical_accuracy: 0.6810 - val_loss: 0.7097 - val_sparse_categorical_accuracy: 0.7700\n",
            "Epoch 2/10\n",
            "28/32 [=========================>....] - ETA: 0s - loss: 0.4355 - sparse_categorical_accuracy: 0.8761\n",
            "Epoch 2: saving model to training_1/cp.ckpt\n",
            "32/32 [==============================] - 0s 11ms/step - loss: 0.4279 - sparse_categorical_accuracy: 0.8770 - val_loss: 0.5201 - val_sparse_categorical_accuracy: 0.8360\n",
            "Epoch 3/10\n",
            "30/32 [===========================>..] - ETA: 0s - loss: 0.2688 - sparse_categorical_accuracy: 0.9375\n",
            "Epoch 3: saving model to training_1/cp.ckpt\n",
            "32/32 [==============================] - 0s 8ms/step - loss: 0.2746 - sparse_categorical_accuracy: 0.9360 - val_loss: 0.4735 - val_sparse_categorical_accuracy: 0.8520\n",
            "Epoch 4/10\n",
            "31/32 [============================>.] - ETA: 0s - loss: 0.2000 - sparse_categorical_accuracy: 0.9506\n",
            "Epoch 4: saving model to training_1/cp.ckpt\n",
            "32/32 [==============================] - 0s 10ms/step - loss: 0.2006 - sparse_categorical_accuracy: 0.9510 - val_loss: 0.4556 - val_sparse_categorical_accuracy: 0.8630\n",
            "Epoch 5/10\n",
            "23/32 [====================>.........] - ETA: 0s - loss: 0.1717 - sparse_categorical_accuracy: 0.9620\n",
            "Epoch 5: saving model to training_1/cp.ckpt\n",
            "32/32 [==============================] - 0s 8ms/step - loss: 0.1676 - sparse_categorical_accuracy: 0.9610 - val_loss: 0.4317 - val_sparse_categorical_accuracy: 0.8540\n",
            "Epoch 6/10\n",
            "21/32 [==================>...........] - ETA: 0s - loss: 0.1172 - sparse_categorical_accuracy: 0.9777\n",
            "Epoch 6: saving model to training_1/cp.ckpt\n",
            "32/32 [==============================] - 0s 6ms/step - loss: 0.1124 - sparse_categorical_accuracy: 0.9800 - val_loss: 0.4005 - val_sparse_categorical_accuracy: 0.8740\n",
            "Epoch 7/10\n",
            "21/32 [==================>...........] - ETA: 0s - loss: 0.0854 - sparse_categorical_accuracy: 0.9821\n",
            "Epoch 7: saving model to training_1/cp.ckpt\n",
            "32/32 [==============================] - 0s 6ms/step - loss: 0.0836 - sparse_categorical_accuracy: 0.9840 - val_loss: 0.4108 - val_sparse_categorical_accuracy: 0.8620\n",
            "Epoch 8/10\n",
            "22/32 [===================>..........] - ETA: 0s - loss: 0.0628 - sparse_categorical_accuracy: 0.9929\n",
            "Epoch 8: saving model to training_1/cp.ckpt\n",
            "32/32 [==============================] - 0s 6ms/step - loss: 0.0649 - sparse_categorical_accuracy: 0.9940 - val_loss: 0.4053 - val_sparse_categorical_accuracy: 0.8700\n",
            "Epoch 9/10\n",
            "21/32 [==================>...........] - ETA: 0s - loss: 0.0519 - sparse_categorical_accuracy: 0.9970\n",
            "Epoch 9: saving model to training_1/cp.ckpt\n",
            "32/32 [==============================] - 0s 6ms/step - loss: 0.0486 - sparse_categorical_accuracy: 0.9980 - val_loss: 0.4076 - val_sparse_categorical_accuracy: 0.8710\n",
            "Epoch 10/10\n",
            "22/32 [===================>..........] - ETA: 0s - loss: 0.0347 - sparse_categorical_accuracy: 0.9986\n",
            "Epoch 10: saving model to training_1/cp.ckpt\n",
            "32/32 [==============================] - 0s 6ms/step - loss: 0.0370 - sparse_categorical_accuracy: 0.9990 - val_loss: 0.4076 - val_sparse_categorical_accuracy: 0.8720\n"
          ]
        },
        {
          "output_type": "execute_result",
          "data": {
            "text/plain": [
              "<keras.src.callbacks.History at 0x78968eb7b430>"
            ]
          },
          "metadata": {},
          "execution_count": 5
        }
      ]
    },
    {
      "cell_type": "markdown",
      "source": [
        "Isso cria uma única coleção de arquivos de checkpoint do TensorFlow que são atualizados no final de cada época."
      ],
      "metadata": {
        "id": "cVzY2OguN6AO"
      }
    },
    {
      "cell_type": "code",
      "source": [
        "os.listdir(checkpoint_dir)"
      ],
      "metadata": {
        "colab": {
          "base_uri": "https://localhost:8080/"
        },
        "id": "5sBY93vKN1U7",
        "outputId": "e2484cbd-95e8-4de1-9d58-db566324e4ee"
      },
      "execution_count": 6,
      "outputs": [
        {
          "output_type": "execute_result",
          "data": {
            "text/plain": [
              "['checkpoint', 'cp.ckpt.data-00000-of-00001', 'cp.ckpt.index']"
            ]
          },
          "metadata": {},
          "execution_count": 6
        }
      ]
    },
    {
      "cell_type": "markdown",
      "source": [
        "Desde que dois modelos compartilhem a mesma arquitetura, pode-se compartilhar pesos entre eles. Portanto, ao restaurar um modelo somente de pesos, crie um modelo com a mesma arquitetura do modelo original e, em seguida, defina seus pesos.\n",
        "\n",
        "Agora reconstrua um modelo novo e não treinado e avalie-o no conjunto de teste. Um modelo não treinado funcionará em níveis de chance (~ 10% de precisão):"
      ],
      "metadata": {
        "id": "n5gSRJP9OAn2"
      }
    },
    {
      "cell_type": "code",
      "source": [
        "# Create a basic model instance\n",
        "model = create_model()\n",
        "\n",
        "# Evaluate the model\n",
        "loss, acc = model.evaluate(test_images, test_labels, verbose=2)\n",
        "print(\"Untrained model, accuracy: {:5.2f}%\".format(100 * acc))"
      ],
      "metadata": {
        "colab": {
          "base_uri": "https://localhost:8080/"
        },
        "id": "oQd-15yTOC3B",
        "outputId": "522bc47a-6b82-484e-c6c9-ca94f2f941d4"
      },
      "execution_count": 7,
      "outputs": [
        {
          "output_type": "stream",
          "name": "stdout",
          "text": [
            "32/32 - 0s - loss: 2.4214 - sparse_categorical_accuracy: 0.0880 - 150ms/epoch - 5ms/step\n",
            "Untrained model, accuracy:  8.80%\n"
          ]
        }
      ]
    },
    {
      "cell_type": "markdown",
      "source": [
        "Em seguida, carregue os pesos do ponto de verificação e reavalie:"
      ],
      "metadata": {
        "id": "qqzCIBRDOVPR"
      }
    },
    {
      "cell_type": "code",
      "source": [
        "# Loads the weights\n",
        "model.load_weights(checkpoint_path)\n",
        "\n",
        "# Re-evaluate the model\n",
        "loss, acc = model.evaluate(test_images, test_labels, verbose=2)\n",
        "print(\"Restored model, accuracy: {:5.2f}%\".format(100 * acc))"
      ],
      "metadata": {
        "colab": {
          "base_uri": "https://localhost:8080/"
        },
        "id": "12ehUz_aOWGv",
        "outputId": "64e3eef7-5a33-4e6e-894e-bb40c5b35552"
      },
      "execution_count": 8,
      "outputs": [
        {
          "output_type": "stream",
          "name": "stdout",
          "text": [
            "32/32 - 0s - loss: 0.4076 - sparse_categorical_accuracy: 0.8720 - 77ms/epoch - 2ms/step\n",
            "Restored model, accuracy: 87.20%\n"
          ]
        }
      ]
    },
    {
      "cell_type": "markdown",
      "source": [
        "Opções de retorno de chamada de ponto de verificação\n",
        "O retorno de chamada oferece várias opções para fornecer nomes exclusivos para pontos de verificação e ajustar a frequência do ponto de verificação.\n",
        "\n",
        "Treine um novo modelo e salve pontos de verificação com nomes exclusivos uma vez a cada cinco épocas:"
      ],
      "metadata": {
        "id": "rElEw1TjOgMj"
      }
    },
    {
      "cell_type": "code",
      "source": [
        "# Include the epoch in the file name (uses `str.format`)\n",
        "checkpoint_path = \"training_2/cp-{epoch:04d}.ckpt\"\n",
        "checkpoint_dir = os.path.dirname(checkpoint_path)\n",
        "\n",
        "batch_size = 32\n",
        "\n",
        "# Create a callback that saves the model's weights every 5 epochs\n",
        "cp_callback = tf.keras.callbacks.ModelCheckpoint(\n",
        "    filepath=checkpoint_path,\n",
        "    verbose=1,\n",
        "    save_weights_only=True,\n",
        "    save_freq=5*batch_size)\n",
        "\n",
        "# Create a new model instance\n",
        "model = create_model()\n",
        "\n",
        "# Save the weights using the `checkpoint_path` format\n",
        "model.save_weights(checkpoint_path.format(epoch=0))\n",
        "\n",
        "# Train the model with the new callback\n",
        "model.fit(train_images,\n",
        "          train_labels,\n",
        "          epochs=50,\n",
        "          batch_size=batch_size,\n",
        "          callbacks=[cp_callback],\n",
        "          validation_data=(test_images, test_labels),\n",
        "          verbose=0)"
      ],
      "metadata": {
        "colab": {
          "base_uri": "https://localhost:8080/"
        },
        "id": "zvCRYIGZOZYK",
        "outputId": "4545bc57-4ada-45ee-c0ad-b785e0c01f35"
      },
      "execution_count": 9,
      "outputs": [
        {
          "output_type": "stream",
          "name": "stdout",
          "text": [
            "\n",
            "Epoch 5: saving model to training_2/cp-0005.ckpt\n",
            "\n",
            "Epoch 10: saving model to training_2/cp-0010.ckpt\n",
            "\n",
            "Epoch 15: saving model to training_2/cp-0015.ckpt\n",
            "\n",
            "Epoch 20: saving model to training_2/cp-0020.ckpt\n",
            "\n",
            "Epoch 25: saving model to training_2/cp-0025.ckpt\n",
            "\n",
            "Epoch 30: saving model to training_2/cp-0030.ckpt\n",
            "\n",
            "Epoch 35: saving model to training_2/cp-0035.ckpt\n",
            "\n",
            "Epoch 40: saving model to training_2/cp-0040.ckpt\n",
            "\n",
            "Epoch 45: saving model to training_2/cp-0045.ckpt\n",
            "\n",
            "Epoch 50: saving model to training_2/cp-0050.ckpt\n"
          ]
        },
        {
          "output_type": "execute_result",
          "data": {
            "text/plain": [
              "<keras.src.callbacks.History at 0x78963395b4c0>"
            ]
          },
          "metadata": {},
          "execution_count": 9
        }
      ]
    },
    {
      "cell_type": "markdown",
      "source": [
        "Agora, observe os checkpoints resultantes e escolha o mais recente:"
      ],
      "metadata": {
        "id": "Lai4aeAwOsra"
      }
    },
    {
      "cell_type": "code",
      "source": [
        "os.listdir(checkpoint_dir)"
      ],
      "metadata": {
        "colab": {
          "base_uri": "https://localhost:8080/"
        },
        "id": "UtU-NkPOOsSj",
        "outputId": "aca3371f-575a-4e75-e6b2-0bd411366dd2"
      },
      "execution_count": 10,
      "outputs": [
        {
          "output_type": "execute_result",
          "data": {
            "text/plain": [
              "['cp-0045.ckpt.index',\n",
              " 'cp-0020.ckpt.data-00000-of-00001',\n",
              " 'cp-0005.ckpt.data-00000-of-00001',\n",
              " 'cp-0030.ckpt.index',\n",
              " 'cp-0005.ckpt.index',\n",
              " 'cp-0010.ckpt.data-00000-of-00001',\n",
              " 'checkpoint',\n",
              " 'cp-0025.ckpt.index',\n",
              " 'cp-0015.ckpt.index',\n",
              " 'cp-0015.ckpt.data-00000-of-00001',\n",
              " 'cp-0010.ckpt.index',\n",
              " 'cp-0020.ckpt.index',\n",
              " 'cp-0040.ckpt.index',\n",
              " 'cp-0030.ckpt.data-00000-of-00001',\n",
              " 'cp-0050.ckpt.data-00000-of-00001',\n",
              " 'cp-0025.ckpt.data-00000-of-00001',\n",
              " 'cp-0000.ckpt.index',\n",
              " 'cp-0050.ckpt.index',\n",
              " 'cp-0045.ckpt.data-00000-of-00001',\n",
              " 'cp-0035.ckpt.data-00000-of-00001',\n",
              " 'cp-0040.ckpt.data-00000-of-00001',\n",
              " 'cp-0035.ckpt.index',\n",
              " 'cp-0000.ckpt.data-00000-of-00001']"
            ]
          },
          "metadata": {},
          "execution_count": 10
        }
      ]
    },
    {
      "cell_type": "code",
      "source": [
        "latest = tf.train.latest_checkpoint(checkpoint_dir)\n",
        "latest"
      ],
      "metadata": {
        "colab": {
          "base_uri": "https://localhost:8080/",
          "height": 35
        },
        "id": "cG-PaaWvO2RG",
        "outputId": "a2b3d344-f44a-40f2-aa59-1311c64d916d"
      },
      "execution_count": 11,
      "outputs": [
        {
          "output_type": "execute_result",
          "data": {
            "text/plain": [
              "'training_2/cp-0050.ckpt'"
            ],
            "application/vnd.google.colaboratory.intrinsic+json": {
              "type": "string"
            }
          },
          "metadata": {},
          "execution_count": 11
        }
      ]
    },
    {
      "cell_type": "markdown",
      "source": [
        "Para testar, redefina o modelo e carregue o último ponto de verificação:"
      ],
      "metadata": {
        "id": "I6fsau9uO6pO"
      }
    },
    {
      "cell_type": "code",
      "source": [
        "# Create a new model instance\n",
        "model = create_model()\n",
        "\n",
        "# Load the previously saved weights\n",
        "model.load_weights(latest)\n",
        "\n",
        "# Re-evaluate the model\n",
        "loss, acc = model.evaluate(test_images, test_labels, verbose=2)\n",
        "print(\"Restored model, accuracy: {:5.2f}%\".format(100 * acc))"
      ],
      "metadata": {
        "colab": {
          "base_uri": "https://localhost:8080/"
        },
        "id": "GCCfLgugO9KU",
        "outputId": "04891799-9cc3-4c14-9180-0336ee0c6475"
      },
      "execution_count": 12,
      "outputs": [
        {
          "output_type": "stream",
          "name": "stdout",
          "text": [
            "32/32 - 0s - loss: 0.4820 - sparse_categorical_accuracy: 0.8800 - 147ms/epoch - 5ms/step\n",
            "Restored model, accuracy: 88.00%\n"
          ]
        }
      ]
    },
    {
      "cell_type": "markdown",
      "source": [
        "# O que são esses arquivos?\n",
        "O código acima armazena os pesos em uma coleção de arquivos formatados de ponto de verificação que contêm apenas os pesos treinados em formato binário. Os pontos de verificação contêm:\n",
        "\n",
        "Um ou mais fragmentos que contêm os pesos do seu modelo.\n",
        "Um arquivo de índice que indica quais pesos são armazenados em qual estilhaço.\n",
        "Se você estiver treinando um modelo em uma única máquina, terá um estilhaço com o sufixo: .data-00000-of-00001"
      ],
      "metadata": {
        "id": "OQBu032UPEl3"
      }
    },
    {
      "cell_type": "markdown",
      "source": [
        "# Salvar pesos manualmente\n",
        "Salvando pesos manualmente com o método Model.save_weights . Por padrão, tf.keras — e save_weights em particular — usa o formato de checkpoint TensorFlow com uma extensão .ckpt (salvar em HDF5 com uma extensão .h5 é abordado no guia Salvar e serializar modelos ):"
      ],
      "metadata": {
        "id": "LZBOu3AEPMC3"
      }
    },
    {
      "cell_type": "code",
      "source": [
        "# Save the weights\n",
        "model.save_weights('./checkpoints/my_checkpoint')\n",
        "\n",
        "# Create a new model instance\n",
        "model = create_model()\n",
        "\n",
        "# Restore the weights\n",
        "model.load_weights('./checkpoints/my_checkpoint')\n",
        "\n",
        "# Evaluate the model\n",
        "loss, acc = model.evaluate(test_images, test_labels, verbose=2)\n",
        "print(\"Restored model, accuracy: {:5.2f}%\".format(100 * acc))"
      ],
      "metadata": {
        "id": "AmKb8ClHPIwP"
      },
      "execution_count": null,
      "outputs": []
    },
    {
      "cell_type": "markdown",
      "source": [
        "# Salve todo o modelo\n",
        "Chame model.save para salvar a arquitetura, os pesos e a configuração de treinamento de um modelo em um único arquivo/pasta. Isso permite exportar um modelo para que possa ser usado sem acesso ao código Python original*. Como o estado do otimizador é recuperado, você pode retomar o treinamento exatamente de onde parou.\n",
        "\n",
        "Um modelo inteiro pode ser salvo em dois formatos de arquivo diferentes ( SavedModel e HDF5 ). O formato TensorFlow SavedModel é o formato de arquivo padrão no TF2.x. No entanto, os modelos podem ser salvos no formato HDF5 . Mais detalhes sobre como salvar modelos inteiros nos dois formatos de arquivo são descritos abaixo.\n",
        "\n",
        "Salvar um modelo totalmente funcional é muito útil — você pode carregá-los no TensorFlow.js ( Saved Model , HDF5 ) e treiná-los e executá-los em navegadores da Web ou convertê-los para execução em dispositivos móveis usando o TensorFlow Lite ( Saved Model , HDF5 )\n",
        "\n",
        "*Os objetos personalizados (por exemplo, modelos ou camadas subclassificados) requerem atenção especial ao salvar e carregar. Consulte a seção Salvando objetos personalizados abaixo\n",
        "\n",
        "# Formato SavedModel\n",
        "O formato SavedModel é outra maneira de serializar modelos. Os modelos salvos nesse formato podem ser restaurados usando tf.keras.models.load_model e são compatíveis com o TensorFlow Serving. O guia SavedModel detalha como servir/inspecionar o SavedModel. A seção abaixo ilustra as etapas para salvar e restaurar o modelo."
      ],
      "metadata": {
        "id": "tcBEfTYdPWxa"
      }
    },
    {
      "cell_type": "code",
      "source": [
        "# Create and train a new model instance.\n",
        "model = create_model()\n",
        "model.fit(train_images, train_labels, epochs=5)\n",
        "\n",
        "# Save the entire model as a SavedModel.\n",
        "!mkdir -p saved_model\n",
        "model.save('saved_model/my_model')"
      ],
      "metadata": {
        "colab": {
          "base_uri": "https://localhost:8080/"
        },
        "id": "c35AwjAtPdpa",
        "outputId": "107f5a9f-e7d5-46ed-c5e8-7a66f5dda373"
      },
      "execution_count": 13,
      "outputs": [
        {
          "output_type": "stream",
          "name": "stdout",
          "text": [
            "Epoch 1/5\n",
            "32/32 [==============================] - 1s 3ms/step - loss: 1.1026 - sparse_categorical_accuracy: 0.6840\n",
            "Epoch 2/5\n",
            "32/32 [==============================] - 0s 3ms/step - loss: 0.4175 - sparse_categorical_accuracy: 0.8830\n",
            "Epoch 3/5\n",
            "32/32 [==============================] - 0s 3ms/step - loss: 0.2668 - sparse_categorical_accuracy: 0.9300\n",
            "Epoch 4/5\n",
            "32/32 [==============================] - 0s 3ms/step - loss: 0.2046 - sparse_categorical_accuracy: 0.9520\n",
            "Epoch 5/5\n",
            "32/32 [==============================] - 0s 3ms/step - loss: 0.1597 - sparse_categorical_accuracy: 0.9630\n"
          ]
        }
      ]
    },
    {
      "cell_type": "markdown",
      "source": [
        "O formato SavedModel é um diretório que contém um binário protobuf e um ponto de verificação do TensorFlow. Inspecione o diretório do modelo salvo:"
      ],
      "metadata": {
        "id": "BgBmiN5PPhLY"
      }
    },
    {
      "cell_type": "code",
      "source": [
        "# Contains an assets folder, saved_model.pb, and variables folder.\n",
        "os.listdir('saved_model/my_model')"
      ],
      "metadata": {
        "colab": {
          "base_uri": "https://localhost:8080/"
        },
        "id": "LtVa8evgPnkY",
        "outputId": "a98c8f79-5420-4a2c-d1ce-141e66009e0b"
      },
      "execution_count": 18,
      "outputs": [
        {
          "output_type": "execute_result",
          "data": {
            "text/plain": [
              "['variables',\n",
              " 'saved_model.pb',\n",
              " 'keras_metadata.pb',\n",
              " 'assets',\n",
              " 'fingerprint.pb']"
            ]
          },
          "metadata": {},
          "execution_count": 18
        }
      ]
    },
    {
      "cell_type": "markdown",
      "source": [
        "Recarregue um novo modelo Keras do modelo salvo:"
      ],
      "metadata": {
        "id": "iQchZv-NPuei"
      }
    },
    {
      "cell_type": "code",
      "source": [
        "new_model = tf.keras.models.load_model('saved_model/my_model')\n",
        "\n",
        "# Check its architecture\n",
        "new_model.summary()"
      ],
      "metadata": {
        "colab": {
          "base_uri": "https://localhost:8080/"
        },
        "id": "3i8d4Eb3PvBl",
        "outputId": "2729587b-7cbe-49aa-8395-2b4a6ef7c32e"
      },
      "execution_count": 19,
      "outputs": [
        {
          "output_type": "stream",
          "name": "stderr",
          "text": [
            "WARNING:tensorflow:Detecting that an object or model or tf.train.Checkpoint is being deleted with unrestored values. See the following logs for the specific values in question. To silence these warnings, use `status.expect_partial()`. See https://www.tensorflow.org/api_docs/python/tf/train/Checkpoint#restorefor details about the status object returned by the restore function.\n",
            "WARNING:tensorflow:Value in checkpoint could not be found in the restored object: (root).optimizer._variables.1\n",
            "WARNING:tensorflow:Value in checkpoint could not be found in the restored object: (root).optimizer._variables.2\n",
            "WARNING:tensorflow:Value in checkpoint could not be found in the restored object: (root).optimizer._variables.3\n",
            "WARNING:tensorflow:Value in checkpoint could not be found in the restored object: (root).optimizer._variables.4\n",
            "WARNING:tensorflow:Value in checkpoint could not be found in the restored object: (root).optimizer._variables.5\n",
            "WARNING:tensorflow:Value in checkpoint could not be found in the restored object: (root).optimizer._variables.6\n",
            "WARNING:tensorflow:Value in checkpoint could not be found in the restored object: (root).optimizer._variables.7\n",
            "WARNING:tensorflow:Value in checkpoint could not be found in the restored object: (root).optimizer._variables.8\n",
            "WARNING:tensorflow:Detecting that an object or model or tf.train.Checkpoint is being deleted with unrestored values. See the following logs for the specific values in question. To silence these warnings, use `status.expect_partial()`. See https://www.tensorflow.org/api_docs/python/tf/train/Checkpoint#restorefor details about the status object returned by the restore function.\n",
            "WARNING:tensorflow:Value in checkpoint could not be found in the restored object: (root).optimizer._variables.1\n",
            "WARNING:tensorflow:Value in checkpoint could not be found in the restored object: (root).optimizer._variables.2\n",
            "WARNING:tensorflow:Value in checkpoint could not be found in the restored object: (root).optimizer._variables.3\n",
            "WARNING:tensorflow:Value in checkpoint could not be found in the restored object: (root).optimizer._variables.4\n",
            "WARNING:tensorflow:Value in checkpoint could not be found in the restored object: (root).optimizer._variables.5\n",
            "WARNING:tensorflow:Value in checkpoint could not be found in the restored object: (root).optimizer._variables.6\n",
            "WARNING:tensorflow:Value in checkpoint could not be found in the restored object: (root).optimizer._variables.7\n",
            "WARNING:tensorflow:Value in checkpoint could not be found in the restored object: (root).optimizer._variables.8\n"
          ]
        },
        {
          "output_type": "stream",
          "name": "stdout",
          "text": [
            "Model: \"sequential_4\"\n",
            "_________________________________________________________________\n",
            " Layer (type)                Output Shape              Param #   \n",
            "=================================================================\n",
            " dense_8 (Dense)             (None, 512)               401920    \n",
            "                                                                 \n",
            " dropout_4 (Dropout)         (None, 512)               0         \n",
            "                                                                 \n",
            " dense_9 (Dense)             (None, 10)                5130      \n",
            "                                                                 \n",
            "=================================================================\n",
            "Total params: 407050 (1.55 MB)\n",
            "Trainable params: 407050 (1.55 MB)\n",
            "Non-trainable params: 0 (0.00 Byte)\n",
            "_________________________________________________________________\n"
          ]
        }
      ]
    },
    {
      "cell_type": "markdown",
      "source": [
        "O modelo restaurado é compilado com os mesmos argumentos do modelo original. Tente executar avaliar e prever com o modelo carregado:"
      ],
      "metadata": {
        "id": "cg_SQAx_P5hv"
      }
    },
    {
      "cell_type": "code",
      "source": [
        "# Evaluate the restored model\n",
        "loss, acc = new_model.evaluate(test_images, test_labels, verbose=2)\n",
        "print('Restored model, accuracy: {:5.2f}%'.format(100 * acc))\n",
        "\n",
        "print(new_model.predict(test_images).shape)"
      ],
      "metadata": {
        "colab": {
          "base_uri": "https://localhost:8080/"
        },
        "id": "r-1Rr3EvP6Wl",
        "outputId": "68c7b0fb-a962-4e41-b64b-6b18a758fcc4"
      },
      "execution_count": 20,
      "outputs": [
        {
          "output_type": "stream",
          "name": "stdout",
          "text": [
            "32/32 - 0s - loss: 0.4546 - sparse_categorical_accuracy: 0.8530 - 161ms/epoch - 5ms/step\n",
            "Restored model, accuracy: 85.30%\n",
            "32/32 [==============================] - 0s 2ms/step\n",
            "(1000, 10)\n"
          ]
        }
      ]
    },
    {
      "cell_type": "markdown",
      "source": [
        "# Formato HDF5\n",
        "Keras fornece um formato básico de salvamento usando o padrão HDF5 ."
      ],
      "metadata": {
        "id": "gh8lfHidQBsd"
      }
    },
    {
      "cell_type": "code",
      "source": [
        "# Create and train a new model instance.\n",
        "model = create_model()\n",
        "model.fit(train_images, train_labels, epochs=5)\n",
        "\n",
        "# Save the entire model to a HDF5 file.\n",
        "# The '.h5' extension indicates that the model should be saved to HDF5.\n",
        "model.save('my_model.h5')"
      ],
      "metadata": {
        "colab": {
          "base_uri": "https://localhost:8080/"
        },
        "id": "6DthZqgCQEW3",
        "outputId": "a794ad8f-e6c4-4c87-ca22-60371b2b2e62"
      },
      "execution_count": 21,
      "outputs": [
        {
          "output_type": "stream",
          "name": "stdout",
          "text": [
            "Epoch 1/5\n",
            "32/32 [==============================] - 1s 3ms/step - loss: 1.0988 - sparse_categorical_accuracy: 0.6970\n",
            "Epoch 2/5\n",
            "32/32 [==============================] - 0s 3ms/step - loss: 0.4207 - sparse_categorical_accuracy: 0.8730\n",
            "Epoch 3/5\n",
            "32/32 [==============================] - 0s 3ms/step - loss: 0.2867 - sparse_categorical_accuracy: 0.9240\n",
            "Epoch 4/5\n",
            "32/32 [==============================] - 0s 3ms/step - loss: 0.2076 - sparse_categorical_accuracy: 0.9520\n",
            "Epoch 5/5\n",
            "32/32 [==============================] - 0s 3ms/step - loss: 0.1476 - sparse_categorical_accuracy: 0.9680\n"
          ]
        },
        {
          "output_type": "stream",
          "name": "stderr",
          "text": [
            "/usr/local/lib/python3.10/dist-packages/keras/src/engine/training.py:3103: UserWarning: You are saving your model as an HDF5 file via `model.save()`. This file format is considered legacy. We recommend using instead the native Keras format, e.g. `model.save('my_model.keras')`.\n",
            "  saving_api.save_model(\n"
          ]
        }
      ]
    },
    {
      "cell_type": "markdown",
      "source": [
        "Agora, recrie o modelo desse arquivo:"
      ],
      "metadata": {
        "id": "NIdWpJSQQM0O"
      }
    },
    {
      "cell_type": "code",
      "source": [
        "# Recreate the exact same model, including its weights and the optimizer\n",
        "new_model = tf.keras.models.load_model('my_model.h5')\n",
        "\n",
        "# Show the model architecture\n",
        "new_model.summary()"
      ],
      "metadata": {
        "colab": {
          "base_uri": "https://localhost:8080/"
        },
        "id": "9-27V9ahQOnm",
        "outputId": "ea40fd0e-4e7a-410e-f3d2-ce8d4c95786c"
      },
      "execution_count": 22,
      "outputs": [
        {
          "output_type": "stream",
          "name": "stdout",
          "text": [
            "Model: \"sequential_5\"\n",
            "_________________________________________________________________\n",
            " Layer (type)                Output Shape              Param #   \n",
            "=================================================================\n",
            " dense_10 (Dense)            (None, 512)               401920    \n",
            "                                                                 \n",
            " dropout_5 (Dropout)         (None, 512)               0         \n",
            "                                                                 \n",
            " dense_11 (Dense)            (None, 10)                5130      \n",
            "                                                                 \n",
            "=================================================================\n",
            "Total params: 407050 (1.55 MB)\n",
            "Trainable params: 407050 (1.55 MB)\n",
            "Non-trainable params: 0 (0.00 Byte)\n",
            "_________________________________________________________________\n"
          ]
        }
      ]
    },
    {
      "cell_type": "markdown",
      "source": [
        "Verifique sua precisão:"
      ],
      "metadata": {
        "id": "VB6LqPubQRBb"
      }
    },
    {
      "cell_type": "code",
      "source": [
        "loss, acc = new_model.evaluate(test_images, test_labels, verbose=2)\n",
        "print('Restored model, accuracy: {:5.2f}%'.format(100 * acc))"
      ],
      "metadata": {
        "colab": {
          "base_uri": "https://localhost:8080/"
        },
        "id": "v6OPq5yQQVN3",
        "outputId": "90ee6421-3301-4571-ea79-4a1a61334d74"
      },
      "execution_count": 23,
      "outputs": [
        {
          "output_type": "stream",
          "name": "stdout",
          "text": [
            "32/32 - 0s - loss: 0.4311 - sparse_categorical_accuracy: 0.8610 - 155ms/epoch - 5ms/step\n",
            "Restored model, accuracy: 86.10%\n"
          ]
        }
      ]
    },
    {
      "cell_type": "markdown",
      "source": [
        "# Keras salva modelos inspecionando suas arquiteturas. Esta técnica salva tudo:\n",
        "\n",
        "Os valores de peso\n",
        "A arquitetura do modelo\n",
        "A configuração de treinamento do modelo (o que você passa para o método .compile() )\n",
        "O otimizador e seu estado, se houver (isso permite que você reinicie o treinamento de onde parou)\n",
        "Keras não pode salvar os otimizadores v1.x (de tf.compat.v1.train ) porque eles não são compatíveis com checkpoints. Para otimizadores v1.x, você precisa recompilar o modelo após o carregamento — perdendo o estado do otimizador.\n",
        "\n"
      ],
      "metadata": {
        "id": "wAY0yNDLQdYR"
      }
    },
    {
      "cell_type": "markdown",
      "source": [
        "# Salvando objetos personalizados\n",
        "Se estiver usando o formato SavedModel, pule esta seção. A principal diferença entre HDF5 e SavedModel é que HDF5 usa configurações de objeto para salvar a arquitetura do modelo, enquanto SavedModel salva o gráfico de execução. Assim, SavedModels são capazes de salvar objetos personalizados como modelos de subclasses e camadas personalizadas sem exigir o código original.\n",
        "\n",
        "Para salvar objetos personalizados em HDF5, você deve fazer o seguinte:\n",
        "\n",
        "Defina um método get_config em seu objeto e, opcionalmente, um método de from_config .\n",
        "get_config(self) retorna um dicionário serializável JSON de parâmetros necessários para recriar o objeto.\n",
        "from_config(cls, config) usa a configuração retornada de get_config para criar um novo objeto. Por padrão, esta função usará a configuração como kwargs de inicialização ( return cls(**config) ).\n",
        "Passe o objeto para o argumento custom_objects ao carregar o modelo. O argumento deve ser um dicionário mapeando o nome da classe string para a classe Python. Por exemplo tf.keras.models.load_model(path, custom_objects={'CustomLayer': CustomLayer})\n",
        "\n",
        "Consulte o tutorial Escrevendo camadas e modelos do zero para obter exemplos de objetos personalizados e get_config ."
      ],
      "metadata": {
        "id": "tYacJdQIQiOW"
      }
    },
    {
      "cell_type": "code",
      "source": [
        "# MIT License\n",
        "#\n",
        "# Copyright (c) 2017 François Chollet\n",
        "#\n",
        "# Permission is hereby granted, free of charge, to any person obtaining a\n",
        "# copy of this software and associated documentation files (the \"Software\"),\n",
        "# to deal in the Software without restriction, including without limitation\n",
        "# the rights to use, copy, modify, merge, publish, distribute, sublicense,\n",
        "# and/or sell copies of the Software, and to permit persons to whom the\n",
        "# Software is furnished to do so, subject to the following conditions:\n",
        "#\n",
        "# The above copyright notice and this permission notice shall be included in\n",
        "# all copies or substantial portions of the Software.\n",
        "#\n",
        "# THE SOFTWARE IS PROVIDED \"AS IS\", WITHOUT WARRANTY OF ANY KIND, EXPRESS OR\n",
        "# IMPLIED, INCLUDING BUT NOT LIMITED TO THE WARRANTIES OF MERCHANTABILITY,\n",
        "# FITNESS FOR A PARTICULAR PURPOSE AND NONINFRINGEMENT. IN NO EVENT SHALL\n",
        "# THE AUTHORS OR COPYRIGHT HOLDERS BE LIABLE FOR ANY CLAIM, DAMAGES OR OTHER\n",
        "# LIABILITY, WHETHER IN AN ACTION OF CONTRACT, TORT OR OTHERWISE, ARISING\n",
        "# FROM, OUT OF OR IN CONNECTION WITH THE SOFTWARE OR THE USE OR OTHER\n",
        "# DEALINGS IN THE SOFTWARE."
      ],
      "metadata": {
        "id": "EOBXyY05Qx0k"
      },
      "execution_count": null,
      "outputs": []
    }
  ]
}